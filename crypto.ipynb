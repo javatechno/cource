{
 "cells": [
  {
   "cell_type": "code",
   "execution_count": 1,
   "metadata": {},
   "outputs": [],
   "source": [
    "import math\n",
    "import numpy as np\n",
    "W = np.array([[1, 1], [1, -1]],int)\n",
    "p = (15, 11 4, 1, 3, 15, 5, 9, 0, 10, 14, 7, 6, 8, 2, 15)"
   ]
  },
  {
   "cell_type": "code",
   "execution_count": 2,
   "metadata": {},
   "outputs": [],
   "source": [
    "# Матрица Адамара-Сильвестра\n",
    "def hadamard_matrix(dimension):\n",
    "    if dimension == 1:\n",
    "        return W\n",
    "    else:\n",
    "        return np.hstack((np.vstack((hadamard_matrix(dimension-1),hadamard_matrix(dimension-1))),np.vstack((hadamard_matrix(dimension-1),-hadamard_matrix(dimension-1)))))"
   ]
  },
  {
   "cell_type": "code",
   "execution_count": 3,
   "metadata": {},
   "outputs": [],
   "source": [
    "# Получение массива значений функций\n",
    "def function_value(function):\n",
    "    values = [ [] for _ in range(len(bin(max(function))[2:]))]\n",
    "    for value in function:\n",
    "        for function_number in range(len(bin(max(function))[2:])):\n",
    "            values[function_number].append(value >> function_number & 1)\n",
    "    values.reverse()\n",
    "    return values"
   ]
  },
  {
   "cell_type": "code",
   "execution_count": 4,
   "metadata": {},
   "outputs": [],
   "source": [
    "# Генерирует все мономы в лексикографическом порядке\n",
    "def generate_monoms(n):\n",
    "    monoms = ['1']\n",
    "    x = 1\n",
    "    for i in range(2 ** n - 1):\n",
    "        mon = ''\n",
    "        for j in range(n):\n",
    "            if x >> j & 1:\n",
    "                mon += 'x' + str(4 - j)\n",
    "        monoms.append(mon)\n",
    "        x += 1\n",
    "    return(monoms)"
   ]
  },
  {
   "cell_type": "code",
   "execution_count": 5,
   "metadata": {},
   "outputs": [],
   "source": [
    "# Вывод значений функции в нормальном виде\n",
    "def builds_function(function):\n",
    "    answer = ''\n",
    "    num_of_bits = len(bin(max(function))[2:])\n",
    "    monoms = generate_monoms(num_of_bits)\n",
    "    print_yi = \"y{}\"\n",
    "    counter = 0\n",
    "    for i in range(num_of_bits):\n",
    "        answer += print_yi.format(counter) + ' = '\n",
    "        coefficients = function_value(anf(function))[i]\n",
    "        for j in range(len(function)):\n",
    "            if coefficients[j]:\n",
    "                answer += monoms[j] + ' ⊕ '\n",
    "        counter += 1\n",
    "        answer = answer[0:len(answer) - 3:]\n",
    "        answer += '\\n'\n",
    "    return(answer)"
   ]
  },
  {
   "cell_type": "code",
   "execution_count": 6,
   "metadata": {},
   "outputs": [],
   "source": [
    "# Многочлен Жегалкина\n",
    "def anf(function):\n",
    "    buff = []\n",
    "    iterations = len(function)\n",
    "    ANF = [ function[0] ]\n",
    "    for _ in range(iterations-1):\n",
    "        for i in range(len(function)-1):\n",
    "            buff.append(function[i]^function[i+1])\n",
    "        ANF.append(buff[0])\n",
    "        function = buff\n",
    "        buff = []\n",
    "    return ANF"
   ]
  },
  {
   "cell_type": "code",
   "execution_count": 7,
   "metadata": {},
   "outputs": [],
   "source": [
    "# Коэффцициенты Фурье\n",
    "def fourier_spectrum(function):\n",
    "    values = function_value(function)\n",
    "    spectrum = [] \n",
    "    M = hadamard_matrix(int(math.log2(len(function))))\n",
    "    for functions in range(len(bin(max(function))[2:])):\n",
    "        spectrum.append(np.matmul(np.array(values[functions]).T,M).tolist())\n",
    "    return spectrum"
   ]
  },
  {
   "cell_type": "code",
   "execution_count": 8,
   "metadata": {},
   "outputs": [],
   "source": [
    "# Коэффициенты Уолша-Адамара\n",
    "def walsch_spectrum(function):\n",
    "    values = function_value(function)\n",
    "    unit_array = np.array([1 for _ in range(len(function))])\n",
    "    M = hadamard_matrix(int(math.log2(len(function))))\n",
    "    spectrum = []\n",
    "    for functions in range(len(bin(max(function))[2:])):\n",
    "        spectrum.append(np.matmul((unit_array - 2 * np.array(values[functions])).T,M).tolist())\n",
    "    return spectrum"
   ]
  },
  {
   "cell_type": "code",
   "execution_count": 9,
   "metadata": {},
   "outputs": [],
   "source": [
    "# Задание 5 - строгий лавинный критерий\n",
    "def strict_avalanche_test(function):\n",
    "    values = function_value(function)\n",
    "    var = [[0] for _ in range(int(math.log2(len(function))))]\n",
    "    for k in range(int(math.log2(len(function)))): \n",
    "        for i in range(int(math.log2(len(function)))):\n",
    "            num = 0\n",
    "            for j in range(len(function)):\n",
    "                 if values[k][j] != values[k][j^(2**i)]:\n",
    "                    num=num+1\n",
    "            var[k][0]=var[k][0]+num\n",
    "    return var"
   ]
  },
  {
   "cell_type": "code",
   "execution_count": 10,
   "metadata": {},
   "outputs": [],
   "source": [
    "# Задание 6\n",
    "def bit_independence_criterion(function):\n",
    "    values = function_value(function)\n",
    "    g = {1:[0,1],2:[0,2],3:[1,2],4:[0,3],5:[1,3],6:[2,3]}\n",
    "    var = [[0] for _ in range(6)]\n",
    "    for k in g: \n",
    "        for i in range(int(math.log2(len(function)))):\n",
    "            num = 0\n",
    "            for j in range(len(function)):\n",
    "                 if values[g[k][0]][j] != values[g[k][0]][j^(2**i)] and values[g[k][1]][j] != values[g[k][1]][j^(2**i)]:\n",
    "                    num=num+1\n",
    "            var[k-1][0]=var[k-1][0]+num\n",
    "    return var,g"
   ]
  },
  {
   "cell_type": "code",
   "execution_count": 11,
   "metadata": {},
   "outputs": [],
   "source": [
    "# Задание 7 - лавинный критерий\n",
    "def avalanche_test(function):\n",
    "    values = function_value(function)\n",
    "    var = [[0] for _ in range(5)]\n",
    "    for i in range(int(math.log2(len(function)))):\n",
    "        for j in range(len(function)):\n",
    "            num = 0\n",
    "            for k in range(int(math.log2(len(function)))):\n",
    "                if values[k][j] != values[k][j^(2**i)]:\n",
    "                    num=num+1\n",
    "            var[num][0]=var[num][0]+1\n",
    "    return var"
   ]
  },
  
 "metadata": {
  "kernelspec": {
   "display_name": "Python 3",
   "language": "python",
   "name": "python3"
  },
  "language_info": {
   "codemirror_mode": {
    "name": "ipython",
    "version": 3
   },
   "file_extension": ".py",
   "mimetype": "text/x-python",
   "name": "python",
   "nbconvert_exporter": "python",
   "pygments_lexer": "ipython3",
   "version": "3.6.5"
  }
 },
 "nbformat": 4,
 "nbformat_minor": 2
}
